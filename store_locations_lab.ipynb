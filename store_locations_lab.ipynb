{
 "cells": [
  {
   "cell_type": "markdown",
   "metadata": {},
   "source": [
    "# Lab: using clustering to find best store locations\n",
    "\n",
    "Imagine the following situation:<br>\n",
    "You own a pizza chain, and you collected data about pizza deliveries in a certain neighborhood. The data contains a coordinate of each delivery as a pair *(Latitude, Longitude)*. You do not have any stores in this neighborhood, and driving there each time is too expensive (especially with current gas prices). So you decide to open $K$ new stores in this area. The task is, based on the frequent delivery data, determine the best locations for the new stores.\n",
    "\n",
    "You need to perform the $K$-means clustering of delivery locations, and otput the best location for $K$ new stores. How would you choose the location of the store within each cluster that minimizes the overall distance between the store and each delivery address? __Explain your idea in a separate cell below.__"
   ]
  },
  {
   "cell_type": "markdown",
   "metadata": {},
   "source": [
    "The data is 2-dimensional and it is easy to plot it to see if the locations of new stores make sense."
   ]
  },
  {
   "cell_type": "code",
   "execution_count": 1,
   "metadata": {},
   "outputs": [],
   "source": [
    "%matplotlib inline\n",
    "import matplotlib.pyplot as plt\n",
    "import seaborn as sns; sns.set()  # for plot styling\n",
    "import pandas as pd\n",
    "import numpy as np"
   ]
  },
  {
   "cell_type": "markdown",
   "metadata": {},
   "source": [
    "The data is a real data collected by [this person](https://github.com/angelddaz) while they were working as a pizza delivery driver. The file [pizza_delivery_locations.csv](https://drive.google.com/file/d/1tSpqC5sM7DegMil4D9U3DN9exYNATpiA/view?usp=sharing) is a projection of the original data and contains only *(Latitude, Longitude)* of each delivery address. Download the file and update the path below."
   ]
  },
  {
   "cell_type": "code",
   "execution_count": 2,
   "metadata": {},
   "outputs": [],
   "source": [
    "data_file = \"../datasets/pizza_delivery_locations.csv\""
   ]
  },
  {
   "cell_type": "code",
   "execution_count": 3,
   "metadata": {},
   "outputs": [
    {
     "name": "stdout",
     "output_type": "stream",
     "text": [
      "Index(['Latitude', 'Longitude'], dtype='object')\n"
     ]
    }
   ],
   "source": [
    "data = pd.read_csv(data_file)\n",
    "pd_dat = pd.read_csv(data_file)\n",
    "print(data.columns)\n",
    "len(data)\n",
    "\n",
    "# convert dataframe to a 2D numpy array - it is easier to work with it\n",
    "data = data.to_numpy()"
   ]
  },
  {
   "cell_type": "code",
   "execution_count": 77,
   "metadata": {},
   "outputs": [],
   "source": [
    "lat_mean = np.mean(pd_dat['Latitude'])\n",
    "lat_std = np.std(pd_dat['Latitude'])\n",
    "long_mean = np.mean(pd_dat['Longitude'])\n",
    "long_std = np.std(pd_dat['Longitude'])\n",
    "\n",
    "pd_dat['LatitudeCent'] = (pd_dat['Latitude'] - lat_mean) / lat_std\n",
    "pd_dat['LongitudeCent'] = (pd_dat['Longitude'] - long_mean) / long_std"
   ]
  },
  {
   "cell_type": "markdown",
   "metadata": {},
   "source": [
    "# Idea:\n",
    "\n",
    "The main idea here will be to make clusters and place our new locations at the centroids of each cluster. This should minimize the distances across all our locations for each customer. "
   ]
  },
  {
   "cell_type": "markdown",
   "metadata": {},
   "source": [
    "## Task 1.\n",
    "\n",
    "Use $K$-means clustering algorithm to find the best locations for new pizza stores for $K$=2, $K$=3 and $K$=4. The answers should be represented as lists of *(Latitide,Longitude)* tuples for each value of $K$.\n",
    "\n",
    "You can use the custom code from the k-means demo, or you can use the `sklearn.KMeans` module to perform clustering."
   ]
  },
  {
   "cell_type": "code",
   "execution_count": 6,
   "metadata": {},
   "outputs": [],
   "source": [
    "import random\n",
    "from math import sqrt\n",
    "\n",
    "def manhattan(v1,v2):\n",
    "    res=0\n",
    "    dimensions=min(len(v1),len(v2))\n",
    "\n",
    "    for i in range(dimensions):\n",
    "        res+=abs(v1[i]-v2[i])\n",
    "\n",
    "    return res\n",
    "\n",
    "\n",
    "def euclidean(v1,v2):\n",
    "    res=0\n",
    "    dimensions=min(len(v1),len(v2))\n",
    "    for i in range(dimensions):\n",
    "        res+=pow(abs(v1[i]-v2[i]),2)\n",
    "\n",
    "    return sqrt(float(res))\n",
    "\n",
    "\n",
    "def cosine(v1,v2):\n",
    "    dotproduct=0\n",
    "    dimensions=min(len(v1),len(v2))\n",
    "\n",
    "    for i in range(dimensions):\n",
    "        dotproduct+=v1[i]*v2[i]\n",
    "\n",
    "    v1len=0\n",
    "    v2len=0\n",
    "    for i in range (dimensions):\n",
    "        v1len+=v1[i]*v1[i]\n",
    "        v2len+=v2[i]*v2[i]\n",
    "\n",
    "    v1len=sqrt(v1len)\n",
    "    v2len=sqrt(v2len)\n",
    "    \n",
    "    # we need distance here - \n",
    "    # we convert cosine similarity into distance\n",
    "    return 1.0-(float(dotproduct)/(v1len*v2len))\n",
    "  \n",
    "\n",
    "def pearson(v1,v2):\n",
    "    # Simple sums\n",
    "    sum1=sum(v1)\n",
    "    sum2=sum(v2)\n",
    "  \n",
    "    # Sums of the squares\n",
    "    sum1Sq=sum([pow(v,2) for v in v1])\n",
    "    sum2Sq=sum([pow(v,2) for v in v2])\n",
    "  \n",
    "    # Sum of the products\n",
    "    pSum=sum([v1[i]*v2[i] for i in range(min(len(v1),len(v2)))])\n",
    "  \n",
    "    # Calculate r (Pearson score)\n",
    "    numerator=pSum-(sum1*sum2/len(v1))\n",
    "    denominator=sqrt((sum1Sq-pow(sum1,2)/len(v1))*(sum2Sq-pow(sum2,2)/len(v1)))\n",
    "    if denominator==0: return 1.0\n",
    "    \n",
    "    # we need distance here - \n",
    "    # we convert pearson correlation into distance\n",
    "    return 1.0-numerator/denominator\n",
    "\n",
    "\n",
    "def tanimoto(v1,v2):\n",
    "    c1,c2,shared=0,0,0\n",
    "\n",
    "    for i in range(len(v1)):\n",
    "        if v1[i]!=0 or v2[i]!= 0:\n",
    "            if v1[i]!=0: c1+=1 # in v1\n",
    "            if v2[i]!=0: c2+=1 # in v2\n",
    "            if v1[i]!=0 and v2[i]!=0: shared+=1 # in both\n",
    "    \n",
    "    # we need distance here - \n",
    "    # we convert tanimoto similarity into distance\n",
    "    return 1.0-(float(shared)/(c1+c2-shared))\n",
    "\n",
    "# k-means clustering\n",
    "def kcluster(rows,distance=euclidean,k=4):\n",
    "    # Determine the minimum and maximum values for each point\n",
    "    ranges=[(min([row[i] for row in rows]),max([row[i] for row in rows]))\n",
    "    for i in range(len(rows[0]))]\n",
    "\n",
    "    # Create k randomly placed centroids\n",
    "    clusters=[[random.random()*(ranges[i][1]-ranges[i][0])+ranges[i][0]\n",
    "                            for i in range(len(rows[0]))] for j in range(k)]\n",
    "  \n",
    "    lastmatches=None\n",
    "    bestmatches = None\n",
    "\n",
    "    for t in range(100):\n",
    "        print ('Iteration %d' % t)\n",
    "        bestmatches=[[] for i in range(k)]\n",
    "    \n",
    "        # Find which centroid is the closest for each row\n",
    "        for j in range(len(rows)):\n",
    "            row=rows[j]\n",
    "            bestmatch=0\n",
    "            for i in range(k):\n",
    "                d=distance(clusters[i],row)\n",
    "                if d<distance(clusters[bestmatch],row): bestmatch=i\n",
    "            bestmatches[bestmatch].append(j)\n",
    "\n",
    "        # If the results are the same as last time, this is complete\n",
    "        if bestmatches==lastmatches: break\n",
    "        lastmatches=bestmatches\n",
    "    \n",
    "        # Move the centroids to the average of the cluster members\n",
    "        for i in range(k):\n",
    "            avgs=[0.0]*len(rows[0])\n",
    "            if len(bestmatches[i])>0:\n",
    "                for rowid in bestmatches[i]:\n",
    "                    for m in range(len(rows[rowid])):\n",
    "                        avgs[m]+=rows[rowid][m]\n",
    "                for j in range(len(avgs)):\n",
    "                    avgs[j]/=len(bestmatches[i])\n",
    "                clusters[i]=avgs\n",
    "      \n",
    "    return bestmatches"
   ]
  },
  {
   "cell_type": "code",
   "execution_count": 7,
   "metadata": {},
   "outputs": [
    {
     "name": "stdout",
     "output_type": "stream",
     "text": [
      "Iteration 0\n",
      "Iteration 1\n",
      "Iteration 2\n",
      "Iteration 0\n",
      "Iteration 1\n",
      "Iteration 2\n",
      "Iteration 0\n",
      "Iteration 1\n",
      "Iteration 2\n",
      "Iteration 3\n"
     ]
    }
   ],
   "source": [
    "# clustering code for 2,3 and 4 clusters\n",
    "K = 2\n",
    "distance = euclidean\n",
    "K2 = kcluster(data, distance,K)\n",
    "K3 = kcluster(data, distance,K+1)\n",
    "K4 = kcluster(data, distance,K+2)"
   ]
  },
  {
   "cell_type": "code",
   "execution_count": 71,
   "metadata": {},
   "outputs": [],
   "source": [
    "# I can't understand Pandas and I don't see\n",
    "# Why I can't update values by index. So I just made this\n",
    "\n",
    "def find_cluster_num(clusters):\n",
    "    target_len = 0\n",
    "    for cluster in clusters:\n",
    "        target_len+=len(cluster)\n",
    "    ret = []\n",
    "    for i in range(0, target_len):\n",
    "        for j in range(0,len(clusters)):\n",
    "            if i in clusters[j]:\n",
    "                ret.append(j)\n",
    "    return ret\n",
    "    "
   ]
  },
  {
   "cell_type": "code",
   "execution_count": 74,
   "metadata": {},
   "outputs": [],
   "source": [
    "pd_dat['K2'] = find_cluster_num(K2)\n",
    "pd_dat['K3'] = find_cluster_num(K3)\n",
    "pd_dat['K4'] = find_cluster_num(K4)\n"
   ]
  },
  {
   "cell_type": "code",
   "execution_count": 82,
   "metadata": {},
   "outputs": [
    {
     "name": "stdout",
     "output_type": "stream",
     "text": [
      "[[43.63727286046531, -116.22524744798069], [43.66816551446282, -116.26604820247981]] [[43.63727286046531, -116.22524744798069], [43.72387899999997, -116.25504600000009], [43.663956051111185, -116.2668794800005]] [[43.72387899999997, -116.25504600000009], [43.63263042079218, -116.2097921683169], [43.66813457012219, -116.26953390243892], [43.64430153457963, -116.24478462616814]]\n"
     ]
    }
   ],
   "source": [
    "# Extracting best store locations for each cluster of addresses\n",
    "# For each cluster, just find the centroid\n",
    "# The things in these arrays arre the IDs of rows that belong to that cluster\n",
    "def find_mean(rows, val = 0):\n",
    "    tot = 0\n",
    "    count = len(rows)\n",
    "    for row in rows:\n",
    "        tot+=row[val]\n",
    "        \n",
    "    return tot / count\n",
    "\n",
    "        \n",
    "    \n",
    "def find_centroid(ids):\n",
    "    mean_lat = find_mean(data[ids], 0)\n",
    "    mean_long = find_mean(data[ids], 1)\n",
    "    return [mean_lat, mean_long]\n",
    "\n",
    "def gen_centroids(clusters):\n",
    "    ret = []\n",
    "    for cluster in clusters:\n",
    "        ret.append(find_centroid(cluster))\n",
    "    return ret\n",
    "\n",
    "K2_locs = gen_centroids(K2)\n",
    "K3_locs = gen_centroids(K3)\n",
    "K4_locs = gen_centroids(K4)\n",
    "\n",
    "print(K2_locs, K3_locs, K4_locs)"
   ]
  },
  {
   "cell_type": "code",
   "execution_count": 149,
   "metadata": {},
   "outputs": [],
   "source": [
    "K2_data = pd.DataFrame(K2_locs, columns = [\"Lat\", \"Long\"])\n",
    "K2_data['hue'] = 5\n",
    "K3_data = pd.DataFrame(K3_locs, columns = [\"Lat\", \"Long\"])\n",
    "K3_data['hue'] = 5\n",
    "K4_data = pd.DataFrame(K4_locs, columns = [\"Lat\", \"Long\"])\n",
    "K4_data['hue'] = 5"
   ]
  },
  {
   "cell_type": "markdown",
   "metadata": {},
   "source": [
    "## Task 2\n",
    "Visualize clusters by plotting each data point and coloring it with a different color corresponding to the cluster to which it belongs. Also plot the locations of new stores for each value of $K$. Some examples of the final visualizations are given below."
   ]
  },
  {
   "cell_type": "markdown",
   "metadata": {},
   "source": [
    "## Plot for 2 Clusters:\n",
    "\n",
    "I had some trouble learning Seaborn, but I combed through the docs and still can't figure out why my titles never showed up. So I just deleted them!\n",
    "\n",
    "# All new locations will be shown in the light blue color!"
   ]
  },
  {
   "cell_type": "code",
   "execution_count": 168,
   "metadata": {},
   "outputs": [
    {
     "data": {
      "image/png": "[encoded data removed]",
      "text/plain": [
       "<Figure size 405.725x360 with 1 Axes>"
      ]
     },
     "metadata": {},
     "output_type": "display_data"
    }
   ],
   "source": [
    "pltr = sns.relplot(\n",
    "    data=pd_dat,\n",
    "    y=\"Longitude\", x=\"Latitude\", hue = 'K2',\n",
    "    size = 'K2',\n",
    "    sizes = [100, 100]\n",
    ")\n",
    "\n",
    "\n",
    "# Add points\n",
    "pltr2 = sns.scatterplot(\n",
    "    data=K2_data,\n",
    "    x = \"Lat\", y = \"Long\", hue = 'hue', \n",
    "    legend = False,\n",
    "    size = 1,\n",
    "    sizes = [200],\n",
    "    palette=\"pastel\")\n"
   ]
  },
  {
   "cell_type": "markdown",
   "metadata": {},
   "source": [
    "## Plot for 3 Clusters:\n",
    "\n",
    "In borth the K3 and K4 graphs, there is a cluster of a single point off on the right. The centroid of a singleton is obviously itself, so we've opened a business right in that persons house. "
   ]
  },
  {
   "cell_type": "code",
   "execution_count": 175,
   "metadata": {},
   "outputs": [
    {
     "data": {
      "image/png": "[encoded data removed]",
      "text/plain": [
       "<Figure size 405.725x360 with 1 Axes>"
      ]
     },
     "metadata": {},
     "output_type": "display_data"
    }
   ],
   "source": [
    "pltr = sns.relplot(\n",
    "    data=pd_dat,\n",
    "    y=\"Longitude\", x=\"Latitude\", hue = 'K3',\n",
    "    size = 'K3',\n",
    "    sizes = [100, 100, 100],\n",
    "    palette = \"bright\"\n",
    ")\n",
    "\n",
    "\n",
    "# Add points\n",
    "pltr2 = sns.scatterplot(\n",
    "    data=K3_data,\n",
    "    x = \"Lat\", y = \"Long\", hue = 'hue', \n",
    "    legend = False,\n",
    "    size = 1,\n",
    "    sizes = [200],\n",
    "    palette=\"pastel\")\n",
    "\n"
   ]
  },
  {
   "cell_type": "markdown",
   "metadata": {},
   "source": [
    "## Plot for 4 Clusters:"
   ]
  },
  {
   "cell_type": "code",
   "execution_count": 177,
   "metadata": {},
   "outputs": [
    {
     "data": {
      "image/png": "[encoded data removed]",
      "text/plain": [
       "<Figure size 405.725x360 with 1 Axes>"
      ]
     },
     "metadata": {},
     "output_type": "display_data"
    }
   ],
   "source": [
    "pltr = sns.relplot(\n",
    "    data=pd_dat,\n",
    "    y=\"Longitude\", x=\"Latitude\", hue = 'K4',\n",
    "    size = 'K4',\n",
    "    palette = \"bright\",\n",
    "    sizes = [100, 100, 100, 100]\n",
    ")\n",
    "\n",
    "\n",
    "# Add points\n",
    "pltr2 = sns.scatterplot(\n",
    "    data=K4_data,\n",
    "    x = \"Lat\", y = \"Long\", hue = 'hue', \n",
    "    legend = False,\n",
    "    size = 1,\n",
    "    sizes = [200],\n",
    "    palette=\"pastel\")"
   ]
  },
  {
   "cell_type": "code",
   "execution_count": 46,
   "metadata": {},
   "outputs": [],
   "source": [
    "# Old code, unused\n",
    "\n",
    "def get_vals(dat, col):\n",
    "    ret = []\n",
    "    for row in dat:\n",
    "        ret.append(row[col])\n",
    "    return ret\n",
    "\n",
    "X = get_vals(data,0)\n",
    "Y = get_vals(data,1)"
   ]
  },
  {
   "cell_type": "markdown",
   "metadata": {},
   "source": [
    "## Examples of cluster visualization in 2D"
   ]
  },
  {
   "cell_type": "markdown",
   "metadata": {},
   "source": [
    "Plotting original data:\n",
    "    \n",
    "<img src=\"clusters.png\">"
   ]
  },
  {
   "cell_type": "markdown",
   "metadata": {},
   "source": [
    "Plotting clusters with store locations\n",
    "<img src=\"locations.png\">"
   ]
  },
  {
   "cell_type": "markdown",
   "metadata": {},
   "source": [
    "Copyright &copy; 2022 Marina Barsky. All rights reserved."
   ]
  }
 ],
 "metadata": {
  "kernelspec": {
   "display_name": "Python 3 (ipykernel)",
   "language": "python",
   "name": "python3"
  },
  "language_info": {
   "codemirror_mode": {
    "name": "ipython",
    "version": 3
   },
   "file_extension": ".py",
   "mimetype": "text/x-python",
   "name": "python",
   "nbconvert_exporter": "python",
   "pygments_lexer": "ipython3",
   "version": "3.9.7"
  }
 },
 "nbformat": 4,
 "nbformat_minor": 4
}
